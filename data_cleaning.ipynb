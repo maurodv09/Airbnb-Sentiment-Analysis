{
 "cells": [
  {
   "cell_type": "markdown",
   "id": "3e30e5cc-7c93-4a86-b24e-856017b90680",
   "metadata": {},
   "source": [
    "# Airbnb New York Sentiment Analysis\n",
    "For this project I'll center on the general sentiment of the Airbnb experience in New York throughout 2023, leaving an inference analysis of the available features for a future project.\n",
    "## Dataset\n",
    "The dataset to be used is the reviews.csv, which contains the following variables:\n",
    "1. listing_id: foreign key for the ID of the airbnb accommodation.\n",
    "2. id: primary key, ID corresponding to each individual review.\n",
    "3. date: date of the review.\n",
    "4. reviewer_id: foreign key for the ID of the reviewer.\n",
    "5. reviewer_name: first name of the reviewer (anonymization is guaranteed by the dataset provider).\n",
    "6. comments: string containing the review.\n",
    "## Cleaning\n",
    "the cleaning process will consist of the following steps:\n",
    "1. Handling Null values.\n",
    "2. Ensuring primary key uniqueness.\n",
    "3. Cleaning text for each review.\n",
    "4. Validating review length (>1)."
   ]
  },
  {
   "cell_type": "code",
   "execution_count": 1,
   "id": "d1b41115-2ad9-43f5-91b0-46762da43190",
   "metadata": {},
   "outputs": [],
   "source": [
    "import pandas as pd\n",
    "import matplotlib.pyplot as plt\n",
    "import seaborn as sns\n",
    "import re"
   ]
  },
  {
   "cell_type": "code",
   "execution_count": 2,
   "id": "e8a06f8b-23b3-46d6-9750-719ebe5ccac0",
   "metadata": {},
   "outputs": [],
   "source": [
    "rev = pd.read_csv('data/reviews.csv', parse_dates=['date'])"
   ]
  },
  {
   "cell_type": "code",
   "execution_count": 3,
   "id": "090ea035-06e0-4fd9-bc68-24b2ef844372",
   "metadata": {},
   "outputs": [
    {
     "data": {
      "text/html": [
       "<div>\n",
       "<style scoped>\n",
       "    .dataframe tbody tr th:only-of-type {\n",
       "        vertical-align: middle;\n",
       "    }\n",
       "\n",
       "    .dataframe tbody tr th {\n",
       "        vertical-align: top;\n",
       "    }\n",
       "\n",
       "    .dataframe thead th {\n",
       "        text-align: right;\n",
       "    }\n",
       "</style>\n",
       "<table border=\"1\" class=\"dataframe\">\n",
       "  <thead>\n",
       "    <tr style=\"text-align: right;\">\n",
       "      <th></th>\n",
       "      <th>listing_id</th>\n",
       "      <th>id</th>\n",
       "      <th>date</th>\n",
       "      <th>reviewer_id</th>\n",
       "      <th>reviewer_name</th>\n",
       "      <th>comments</th>\n",
       "    </tr>\n",
       "  </thead>\n",
       "  <tbody>\n",
       "    <tr>\n",
       "      <th>0</th>\n",
       "      <td>2595</td>\n",
       "      <td>17857</td>\n",
       "      <td>2009-11-21</td>\n",
       "      <td>50679</td>\n",
       "      <td>Jean</td>\n",
       "      <td>Notre séjour de trois nuits.\\r&lt;br/&gt;Nous avons ...</td>\n",
       "    </tr>\n",
       "    <tr>\n",
       "      <th>1</th>\n",
       "      <td>2595</td>\n",
       "      <td>19176</td>\n",
       "      <td>2009-12-05</td>\n",
       "      <td>53267</td>\n",
       "      <td>Cate</td>\n",
       "      <td>Great experience.</td>\n",
       "    </tr>\n",
       "  </tbody>\n",
       "</table>\n",
       "</div>"
      ],
      "text/plain": [
       "   listing_id     id       date  reviewer_id reviewer_name  \\\n",
       "0        2595  17857 2009-11-21        50679          Jean   \n",
       "1        2595  19176 2009-12-05        53267          Cate   \n",
       "\n",
       "                                            comments  \n",
       "0  Notre séjour de trois nuits.\\r<br/>Nous avons ...  \n",
       "1                                  Great experience.  "
      ]
     },
     "execution_count": 3,
     "metadata": {},
     "output_type": "execute_result"
    }
   ],
   "source": [
    "rev.head(2)"
   ]
  },
  {
   "cell_type": "code",
   "execution_count": 4,
   "id": "bd864c32-b95e-45fc-905a-a483047769a1",
   "metadata": {},
   "outputs": [
    {
     "name": "stdout",
     "output_type": "stream",
     "text": [
      "<class 'pandas.core.frame.DataFrame'>\n",
      "RangeIndex: 947328 entries, 0 to 947327\n",
      "Data columns (total 6 columns):\n",
      " #   Column         Non-Null Count   Dtype         \n",
      "---  ------         --------------   -----         \n",
      " 0   listing_id     947328 non-null  int64         \n",
      " 1   id             947328 non-null  int64         \n",
      " 2   date           947328 non-null  datetime64[ns]\n",
      " 3   reviewer_id    947328 non-null  int64         \n",
      " 4   reviewer_name  947325 non-null  object        \n",
      " 5   comments       947094 non-null  object        \n",
      "dtypes: datetime64[ns](1), int64(3), object(2)\n",
      "memory usage: 43.4+ MB\n"
     ]
    }
   ],
   "source": [
    "rev.info()"
   ]
  },
  {
   "cell_type": "code",
   "execution_count": null,
   "id": "47bddfd0-e37f-4e88-bd35-36eb86027aea",
   "metadata": {},
   "outputs": [],
   "source": []
  },
  {
   "cell_type": "markdown",
   "id": "8de42bc5-d2b1-4d7e-bb57-11f1f689eb46",
   "metadata": {},
   "source": [
    "**reviews per year:**"
   ]
  },
  {
   "cell_type": "code",
   "execution_count": 5,
   "id": "1386be21-c59d-4f2b-9cc1-7968775978f9",
   "metadata": {},
   "outputs": [
    {
     "data": {
      "text/plain": [
       "date\n",
       "2009        50\n",
       "2010       455\n",
       "2011      1729\n",
       "2012      3508\n",
       "2013      6722\n",
       "2014     12953\n",
       "2015     26377\n",
       "2016     45555\n",
       "2017     62775\n",
       "2018     89637\n",
       "2019    116582\n",
       "2020     45032\n",
       "2021     93942\n",
       "2022    165445\n",
       "2023    188842\n",
       "2024     87724\n",
       "Name: count, dtype: int64"
      ]
     },
     "execution_count": 5,
     "metadata": {},
     "output_type": "execute_result"
    }
   ],
   "source": [
    "rev.date.dt.year.value_counts().sort_index()"
   ]
  },
  {
   "cell_type": "code",
   "execution_count": null,
   "id": "48bff988-6cf7-4cff-8d66-5b1c1075f725",
   "metadata": {},
   "outputs": [],
   "source": []
  },
  {
   "cell_type": "markdown",
   "id": "e6aaa37d-a60c-433a-b76e-21c7e1d8bfe8",
   "metadata": {},
   "source": [
    "Just the reviews from 2023 will be used"
   ]
  },
  {
   "cell_type": "code",
   "execution_count": 6,
   "id": "f3e1f192-c106-49c4-ade2-3a3244434f96",
   "metadata": {},
   "outputs": [],
   "source": [
    "rev23 = rev[rev.date.dt.year == 2023].copy()"
   ]
  },
  {
   "cell_type": "code",
   "execution_count": null,
   "id": "83668af9-bbb0-4b54-9e1a-60fc9a59942f",
   "metadata": {},
   "outputs": [],
   "source": []
  },
  {
   "cell_type": "markdown",
   "id": "95af3a9f-dcb9-4633-bb1b-1fc44cefaef4",
   "metadata": {},
   "source": [
    "#### Na values"
   ]
  },
  {
   "cell_type": "code",
   "execution_count": 7,
   "id": "2da0532a-f026-41bb-9d9e-db3611d78bda",
   "metadata": {},
   "outputs": [
    {
     "data": {
      "text/plain": [
       "listing_id        0\n",
       "id                0\n",
       "date              0\n",
       "reviewer_id       0\n",
       "reviewer_name     0\n",
       "comments         46\n",
       "dtype: int64"
      ]
     },
     "execution_count": 7,
     "metadata": {},
     "output_type": "execute_result"
    }
   ],
   "source": [
    "rev23.isna().sum()"
   ]
  },
  {
   "cell_type": "code",
   "execution_count": 8,
   "id": "a58efc82-0f0c-4061-b0dc-47dec89811c2",
   "metadata": {},
   "outputs": [],
   "source": [
    "rev23.dropna(inplace=True)"
   ]
  },
  {
   "cell_type": "code",
   "execution_count": null,
   "id": "39f85a66-a913-4118-9779-04fa53de5fd3",
   "metadata": {},
   "outputs": [],
   "source": []
  },
  {
   "cell_type": "markdown",
   "id": "4d483981-28b2-465f-a402-c5ce644a90ab",
   "metadata": {},
   "source": [
    "#### Primary key"
   ]
  },
  {
   "cell_type": "code",
   "execution_count": 9,
   "id": "409ca589-f0f4-4558-ac86-b014b060083d",
   "metadata": {},
   "outputs": [
    {
     "name": "stdout",
     "output_type": "stream",
     "text": [
      "<class 'pandas.core.frame.DataFrame'>\n",
      "Index: 188796 entries, 87 to 933650\n",
      "Data columns (total 6 columns):\n",
      " #   Column         Non-Null Count   Dtype         \n",
      "---  ------         --------------   -----         \n",
      " 0   listing_id     188796 non-null  int64         \n",
      " 1   id             188796 non-null  int64         \n",
      " 2   date           188796 non-null  datetime64[ns]\n",
      " 3   reviewer_id    188796 non-null  int64         \n",
      " 4   reviewer_name  188796 non-null  object        \n",
      " 5   comments       188796 non-null  object        \n",
      "dtypes: datetime64[ns](1), int64(3), object(2)\n",
      "memory usage: 10.1+ MB\n"
     ]
    }
   ],
   "source": [
    "rev23.info()"
   ]
  },
  {
   "cell_type": "code",
   "execution_count": 10,
   "id": "93285fb5-c50a-4fea-a9bd-6ef322dd4a6d",
   "metadata": {},
   "outputs": [
    {
     "data": {
      "text/plain": [
       "listing_id        13789\n",
       "id               188796\n",
       "date                365\n",
       "reviewer_id      175035\n",
       "reviewer_name     38917\n",
       "comments         182539\n",
       "dtype: int64"
      ]
     },
     "execution_count": 10,
     "metadata": {},
     "output_type": "execute_result"
    }
   ],
   "source": [
    "rev23.nunique()"
   ]
  },
  {
   "cell_type": "markdown",
   "id": "b92c6515-bb3b-42b7-af16-717c8543f7b9",
   "metadata": {},
   "source": [
    "id has as many unique values as the number of rows, 188796"
   ]
  },
  {
   "cell_type": "code",
   "execution_count": null,
   "id": "cd41436d-6c7c-4daa-afdb-3266632621f1",
   "metadata": {},
   "outputs": [],
   "source": []
  },
  {
   "cell_type": "markdown",
   "id": "07295f90-c08b-44cf-865f-3ccbfe9ec9f2",
   "metadata": {},
   "source": [
    "#### Text cleaning"
   ]
  },
  {
   "cell_type": "code",
   "execution_count": 11,
   "id": "b83093e7-e4e2-4c47-aa4a-3435bfe319ab",
   "metadata": {},
   "outputs": [],
   "source": [
    "def clean_text(text):\n",
    "    text = re.sub(r'[^\\w\\s]', '', text) # removing everything except leters, numbers and spaces\n",
    "    text = re.sub(r'\\s+', ' ', text) # remove multiple spaces\n",
    "    text = text.lower() # lowercase   \n",
    "    return text"
   ]
  },
  {
   "cell_type": "code",
   "execution_count": 12,
   "id": "75e1ba57-2d37-4b4e-a837-d2911f471b8b",
   "metadata": {},
   "outputs": [],
   "source": [
    "rev23['comments'] = rev23.comments.apply(clean_text)"
   ]
  },
  {
   "cell_type": "code",
   "execution_count": null,
   "id": "bf063ccc-68b4-4e4a-a69d-63782afe2f72",
   "metadata": {},
   "outputs": [],
   "source": []
  },
  {
   "cell_type": "markdown",
   "id": "22961b3e-f7a3-4507-baf1-ca0a357aa19a",
   "metadata": {},
   "source": [
    "#### Invalid length of (cleaned) reviews"
   ]
  },
  {
   "cell_type": "code",
   "execution_count": 13,
   "id": "07de492e-1647-4902-9632-502e5f342ae6",
   "metadata": {},
   "outputs": [
    {
     "name": "stdout",
     "output_type": "stream",
     "text": [
      "number of reviews with length 0 and 1:\n",
      "0 :  548\n",
      "1 :  84\n"
     ]
    }
   ],
   "source": [
    "print('number of reviews with length 0 and 1:')\n",
    "print(0, ': ', (rev23.comments.str.len() == 0).sum())\n",
    "print(1, ': ', (rev23.comments.str.len() == 1).sum())"
   ]
  },
  {
   "cell_type": "code",
   "execution_count": 14,
   "id": "c6cd8076-4476-45fe-87e5-cef365d59379",
   "metadata": {},
   "outputs": [
    {
     "data": {
      "text/html": [
       "<div>\n",
       "<style scoped>\n",
       "    .dataframe tbody tr th:only-of-type {\n",
       "        vertical-align: middle;\n",
       "    }\n",
       "\n",
       "    .dataframe tbody tr th {\n",
       "        vertical-align: top;\n",
       "    }\n",
       "\n",
       "    .dataframe thead th {\n",
       "        text-align: right;\n",
       "    }\n",
       "</style>\n",
       "<table border=\"1\" class=\"dataframe\">\n",
       "  <thead>\n",
       "    <tr style=\"text-align: right;\">\n",
       "      <th></th>\n",
       "      <th>listing_id</th>\n",
       "      <th>id</th>\n",
       "      <th>date</th>\n",
       "      <th>reviewer_id</th>\n",
       "      <th>reviewer_name</th>\n",
       "      <th>comments</th>\n",
       "    </tr>\n",
       "  </thead>\n",
       "  <tbody>\n",
       "    <tr>\n",
       "      <th>57159</th>\n",
       "      <td>986727</td>\n",
       "      <td>913817627344455011</td>\n",
       "      <td>2023-06-14</td>\n",
       "      <td>147393061</td>\n",
       "      <td>Alvaro</td>\n",
       "      <td>a</td>\n",
       "    </tr>\n",
       "    <tr>\n",
       "      <th>62814</th>\n",
       "      <td>860827</td>\n",
       "      <td>1006580575381246458</td>\n",
       "      <td>2023-10-20</td>\n",
       "      <td>55404456</td>\n",
       "      <td>Peter</td>\n",
       "      <td>a</td>\n",
       "    </tr>\n",
       "    <tr>\n",
       "      <th>86317</th>\n",
       "      <td>1349658</td>\n",
       "      <td>935527963596364388</td>\n",
       "      <td>2023-07-14</td>\n",
       "      <td>56028511</td>\n",
       "      <td>Warren</td>\n",
       "      <td>h</td>\n",
       "    </tr>\n",
       "    <tr>\n",
       "      <th>140223</th>\n",
       "      <td>4162519</td>\n",
       "      <td>886916421836727295</td>\n",
       "      <td>2023-05-08</td>\n",
       "      <td>487599270</td>\n",
       "      <td>Robin</td>\n",
       "      <td>好</td>\n",
       "    </tr>\n",
       "    <tr>\n",
       "      <th>166405</th>\n",
       "      <td>5094593</td>\n",
       "      <td>942021138245117665</td>\n",
       "      <td>2023-07-23</td>\n",
       "      <td>462585515</td>\n",
       "      <td>Tarek</td>\n",
       "      <td>n</td>\n",
       "    </tr>\n",
       "  </tbody>\n",
       "</table>\n",
       "</div>"
      ],
      "text/plain": [
       "        listing_id                   id       date  reviewer_id reviewer_name  \\\n",
       "57159       986727   913817627344455011 2023-06-14    147393061        Alvaro   \n",
       "62814       860827  1006580575381246458 2023-10-20     55404456         Peter   \n",
       "86317      1349658   935527963596364388 2023-07-14     56028511        Warren   \n",
       "140223     4162519   886916421836727295 2023-05-08    487599270         Robin   \n",
       "166405     5094593   942021138245117665 2023-07-23    462585515         Tarek   \n",
       "\n",
       "       comments  \n",
       "57159         a  \n",
       "62814         a  \n",
       "86317         h  \n",
       "140223        好  \n",
       "166405        n  "
      ]
     },
     "execution_count": 14,
     "metadata": {},
     "output_type": "execute_result"
    }
   ],
   "source": [
    "rev23[rev23.comments.str.len() == 1].head()"
   ]
  },
  {
   "cell_type": "code",
   "execution_count": 15,
   "id": "8a7bbc70-a495-49cf-805f-0edee86757da",
   "metadata": {},
   "outputs": [],
   "source": [
    "rev23.drop(rev23.query('comments.str.len() == 0 or comments.str.len() == 1').index, inplace=True)"
   ]
  },
  {
   "cell_type": "code",
   "execution_count": null,
   "id": "379fc2b3-d1b0-4a04-ad31-8a6e1dbc387a",
   "metadata": {},
   "outputs": [],
   "source": []
  },
  {
   "cell_type": "markdown",
   "id": "3f46eadb-3c5b-4f5e-b404-b91a9d0f4456",
   "metadata": {},
   "source": [
    "## reviews length"
   ]
  },
  {
   "cell_type": "markdown",
   "id": "32bd459c-6cc2-47f4-a058-3608b8320810",
   "metadata": {},
   "source": [
    "we'll create columns for the length and the number of words of each comment for future analysis"
   ]
  },
  {
   "cell_type": "code",
   "execution_count": 16,
   "id": "45da4aec-1ec2-49c6-826d-11e613161c7b",
   "metadata": {},
   "outputs": [],
   "source": [
    "rev23['rev_len'] = rev23.comments.str.len()\n",
    "rev23['n_words'] = rev23.comments.str.split(' ').apply(lambda x: len(x))"
   ]
  },
  {
   "cell_type": "code",
   "execution_count": 17,
   "id": "6cde52a8-6278-479a-abdb-708d873bb752",
   "metadata": {},
   "outputs": [
    {
     "data": {
      "text/html": [
       "<div>\n",
       "<style scoped>\n",
       "    .dataframe tbody tr th:only-of-type {\n",
       "        vertical-align: middle;\n",
       "    }\n",
       "\n",
       "    .dataframe tbody tr th {\n",
       "        vertical-align: top;\n",
       "    }\n",
       "\n",
       "    .dataframe thead th {\n",
       "        text-align: right;\n",
       "    }\n",
       "</style>\n",
       "<table border=\"1\" class=\"dataframe\">\n",
       "  <thead>\n",
       "    <tr style=\"text-align: right;\">\n",
       "      <th></th>\n",
       "      <th>listing_id</th>\n",
       "      <th>id</th>\n",
       "      <th>date</th>\n",
       "      <th>reviewer_id</th>\n",
       "      <th>reviewer_name</th>\n",
       "      <th>comments</th>\n",
       "      <th>rev_len</th>\n",
       "      <th>n_words</th>\n",
       "    </tr>\n",
       "  </thead>\n",
       "  <tbody>\n",
       "    <tr>\n",
       "      <th>87</th>\n",
       "      <td>5136</td>\n",
       "      <td>962324187708959042</td>\n",
       "      <td>2023-08-20</td>\n",
       "      <td>7246906</td>\n",
       "      <td>Alix</td>\n",
       "      <td>rebeccas place is very spacious and located on...</td>\n",
       "      <td>711</td>\n",
       "      <td>130</td>\n",
       "    </tr>\n",
       "    <tr>\n",
       "      <th>294</th>\n",
       "      <td>230877</td>\n",
       "      <td>931221940179651285</td>\n",
       "      <td>2023-07-08</td>\n",
       "      <td>22401560</td>\n",
       "      <td>Ruth</td>\n",
       "      <td>this is the best airbnb experience we have eve...</td>\n",
       "      <td>589</td>\n",
       "      <td>107</td>\n",
       "    </tr>\n",
       "    <tr>\n",
       "      <th>699</th>\n",
       "      <td>74680</td>\n",
       "      <td>795649067652790489</td>\n",
       "      <td>2023-01-02</td>\n",
       "      <td>43473482</td>\n",
       "      <td>Michelle</td>\n",
       "      <td>my partner and i stayed at nazleens place for ...</td>\n",
       "      <td>980</td>\n",
       "      <td>187</td>\n",
       "    </tr>\n",
       "  </tbody>\n",
       "</table>\n",
       "</div>"
      ],
      "text/plain": [
       "     listing_id                  id       date  reviewer_id reviewer_name  \\\n",
       "87         5136  962324187708959042 2023-08-20      7246906          Alix   \n",
       "294      230877  931221940179651285 2023-07-08     22401560          Ruth   \n",
       "699       74680  795649067652790489 2023-01-02     43473482      Michelle   \n",
       "\n",
       "                                              comments  rev_len  n_words  \n",
       "87   rebeccas place is very spacious and located on...      711      130  \n",
       "294  this is the best airbnb experience we have eve...      589      107  \n",
       "699  my partner and i stayed at nazleens place for ...      980      187  "
      ]
     },
     "execution_count": 17,
     "metadata": {},
     "output_type": "execute_result"
    }
   ],
   "source": [
    "rev23.head(3)"
   ]
  },
  {
   "cell_type": "code",
   "execution_count": null,
   "id": "e528e68a-cda1-49c3-bc14-2b4b3d2b009e",
   "metadata": {},
   "outputs": [],
   "source": []
  },
  {
   "cell_type": "code",
   "execution_count": null,
   "id": "93ea6c2e-b080-47fc-a4cd-55af3649897e",
   "metadata": {},
   "outputs": [],
   "source": [
    "rev23.to_csv('rev23.csv', index=False) # save"
   ]
  },
  {
   "cell_type": "code",
   "execution_count": null,
   "id": "8fcaf614-0892-4865-b0e3-7e6a368f0669",
   "metadata": {},
   "outputs": [],
   "source": []
  }
 ],
 "metadata": {
  "kernelspec": {
   "display_name": "Python 3 (ipykernel)",
   "language": "python",
   "name": "python3"
  },
  "language_info": {
   "codemirror_mode": {
    "name": "ipython",
    "version": 3
   },
   "file_extension": ".py",
   "mimetype": "text/x-python",
   "name": "python",
   "nbconvert_exporter": "python",
   "pygments_lexer": "ipython3",
   "version": "3.12.1"
  }
 },
 "nbformat": 4,
 "nbformat_minor": 5
}
